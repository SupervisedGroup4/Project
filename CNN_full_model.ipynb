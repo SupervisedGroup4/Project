{
  "nbformat": 4,
  "nbformat_minor": 0,
  "metadata": {
    "accelerator": "GPU",
    "colab": {
      "name": "CNN_full_model.ipynb",
      "provenance": [],
      "collapsed_sections": [],
      "machine_shape": "hm",
      "include_colab_link": true
    },
    "kernelspec": {
      "display_name": "Python 3",
      "name": "python3"
    }
  },
  "cells": [
    {
      "cell_type": "markdown",
      "metadata": {
        "id": "view-in-github",
        "colab_type": "text"
      },
      "source": [
        "<a href=\"https://colab.research.google.com/github/elisabethnetland/Labeling-Images-as-Edited-Using-CNN/blob/main/CNN_full_model.ipynb\" target=\"_parent\"><img src=\"https://colab.research.google.com/assets/colab-badge.svg\" alt=\"Open In Colab\"/></a>"
      ]
    },
    {
      "cell_type": "code",
      "metadata": {
        "colab": {
          "base_uri": "https://localhost:8080/"
        },
        "id": "kUbJKJNFASXp",
        "outputId": "f9fa38b4-0504-42c0-e8a8-88fd9e3429a5"
      },
      "source": [
        "from google.colab import drive\n",
        "\n",
        "drive.mount('/content/drive', force_remount=True)"
      ],
      "execution_count": null,
      "outputs": [
        {
          "output_type": "stream",
          "text": [
            "Mounted at /content/drive\n"
          ],
          "name": "stdout"
        }
      ]
    },
    {
      "cell_type": "code",
      "metadata": {
        "id": "3ptg62pWCvZn"
      },
      "source": [
        "import numpy as np \n",
        "import pandas as pd\n",
        "import os\n",
        "import cv2\n",
        "import pickle\n",
        "import matplotlib.pyplot as plt\n",
        "from random import shuffle\n",
        "from tqdm import tqdm\n",
        "import tensorflow as tf\n",
        "from tensorflow import keras\n",
        "from tensorflow.keras.models import Sequential\n",
        "from tensorflow.keras.layers import Dense, Dropout,Activation,Flatten, Conv2D, MaxPooling2D\n",
        "from sklearn.model_selection import GridSearchCV\n",
        "from sklearn.datasets import make_circles\n",
        "from sklearn.metrics import accuracy_score, precision_score, recall_score, f1_score, cohen_kappa_score, roc_auc_score, confusion_matrix, average_precision_score, precision_recall_curve, plot_precision_recall_curve\n",
        "from keras.wrappers.scikit_learn import KerasClassifier\n",
        "from google.colab import files\n"
      ],
      "execution_count": null,
      "outputs": []
    },
    {
      "cell_type": "code",
      "metadata": {
        "id": "OUmgYd0AC7f_"
      },
      "source": [
        "#renaming real and fake directories\n",
        "real = \"/content/drive/My Drive/archive/real_and_fake_face/training_real\"\n",
        "fake = \"/content/drive/My Drive/archive/real_and_fake_face/training_fake\"\n",
        "#creating a list of real and fake images\n",
        "real_path = os.listdir(real)\n",
        "fake_path = os.listdir(fake)\n",
        "shuffle(fake_path)"
      ],
      "execution_count": null,
      "outputs": []
    },
    {
      "cell_type": "code",
      "metadata": {
        "colab": {
          "base_uri": "https://localhost:8080/"
        },
        "id": "PEPr29FYC93T",
        "outputId": "5badc9a9-e0e4-4061-9f13-78ead50731d7"
      },
      "source": [
        "#Preprossesing the dataset; resize, grayscale, adding label\n",
        "#Splitting 80:20 into training and test\n",
        "img_size = 128\n",
        "def create_training_data():\n",
        "    training_data = []\n",
        "    for img in tqdm(real_path[:865]):\n",
        "        path = os.path.join(real, img)\n",
        "        label = [0] \n",
        "        image = cv2.resize( cv2.imread(path, cv2.IMREAD_GRAYSCALE), (img_size,img_size) )\n",
        "        training_data.append([np.array(image), np.array(label)])\n",
        "        \n",
        "    for img in tqdm(fake_path[:768]):\n",
        "        path = os.path.join(fake, img)\n",
        "        label = [1] \n",
        "        image = cv2.resize(cv2.imread(path, cv2.IMREAD_GRAYSCALE), (img_size,img_size))\n",
        "        training_data.append([np.array(image), np.array(label)])\n",
        "\n",
        "    shuffle(training_data)\n",
        "    return(training_data)\n",
        "\n",
        "#Creating a list of test data\n",
        "def create_test_data():\n",
        "    test_data = []\n",
        "    for img in tqdm(real_path[865:]):\n",
        "        path = os.path.join(real, img)\n",
        "        label = [0] \n",
        "        image = cv2.resize( cv2.imread(path, cv2.IMREAD_GRAYSCALE), (img_size,img_size) )\n",
        "        test_data.append([np.array(image), np.array(label)])\n",
        "        \n",
        "    for img in tqdm(fake_path[768:]):\n",
        "        path = os.path.join(fake, img)\n",
        "        label = [1] \n",
        "        image = cv2.resize(cv2.imread(path, cv2.IMREAD_GRAYSCALE), (img_size,img_size))\n",
        "        test_data.append([np.array(image), np.array(label)])\n",
        "\n",
        "    shuffle(test_data)\n",
        "    return(test_data)\n",
        "\n",
        "train_data = create_training_data()\n",
        "test_data = create_test_data()"
      ],
      "execution_count": null,
      "outputs": [
        {
          "output_type": "stream",
          "text": [
            "100%|██████████| 865/865 [03:59<00:00,  3.61it/s]\n",
            "100%|██████████| 768/768 [03:36<00:00,  3.55it/s]\n",
            "100%|██████████| 216/216 [01:04<00:00,  3.34it/s]\n",
            "100%|██████████| 192/192 [00:58<00:00,  3.30it/s]\n"
          ],
          "name": "stderr"
        }
      ]
    },
    {
      "cell_type": "code",
      "metadata": {
        "id": "yd2XaGdOC-eI"
      },
      "source": [
        "img_size = 128\n",
        "#Seperating features and labels, to be able to feed into the model\n",
        "train_img = []\n",
        "train_lab = []\n",
        "test_img = []\n",
        "test_lab = []\n",
        "\n",
        "for i in train_data:\n",
        "    train_img.append(i[0])\n",
        "    train_lab.append(i[1])\n",
        "    \n",
        "for i in test_data:\n",
        "    test_img.append(i[0])\n",
        "    test_lab.append(i[1])\n",
        "    \n",
        "#Reshape image \n",
        "train_img = np.array(train_img).reshape(-1, img_size, img_size, 1)\n",
        "test_img = np.array(test_img).reshape(-1, img_size, img_size, 1)\n",
        "\n",
        "#Divide by 255 to squish values to 0 - 1\n",
        "train_img = train_img/255.0\n",
        "train_lab = np.array(train_lab)\n",
        "\n",
        "test_img = test_img/255.0\n",
        "test_lab = np.array(test_lab)\n"
      ],
      "execution_count": null,
      "outputs": []
    },
    {
      "cell_type": "code",
      "metadata": {
        "colab": {
          "base_uri": "https://localhost:8080/"
        },
        "id": "PrzE1ZZFcmQP",
        "outputId": "04efa33c-9908-488f-cbee-f53373da83f1"
      },
      "source": [
        "#Building our CNN model\n",
        "model = Sequential()\n",
        "\n",
        "#Layer 1\n",
        "model.add(Conv2D(128,(3,3), activation=\"relu\", input_shape=(128, 128, 1))) \n",
        "model.add(MaxPooling2D(pool_size=(2,2)))\n",
        "\n",
        "#Layer 2\n",
        "model.add(Conv2D(64,(3,3), activation=\"relu\")) \n",
        "model.add(MaxPooling2D(pool_size=(2,2)))\n",
        "model.add(Dropout(0.6))\n",
        "\n",
        "#Layer 3\n",
        "model.add(Conv2D(64,(3,3), activation=\"relu\")) \n",
        "model.add(MaxPooling2D(pool_size=(2,2)))\n",
        "\n",
        "#Layer 4\n",
        "model.add(Conv2D(64,(3,3), activation=\"relu\")) \n",
        "model.add(MaxPooling2D(pool_size=(2,2)))\n",
        "model.add(Dropout(0.6))\n",
        "\n",
        "#Fully Connected Layer\n",
        "model.add(Flatten()) \n",
        "model.add(Dense(128))\n",
        "\n",
        "#Output Sigmoid Layer\n",
        "model.add(Dense(1, activation =\"sigmoid\"))\n",
        "\n",
        "opt = keras.optimizers.Adam(learning_rate=0.0002)\n",
        "model.compile(loss = \"binary_crossentropy\", optimizer = opt, metrics = ['accuracy'])\n",
        "\n",
        "#Training the model\n",
        "history = model.fit(train_img, train_lab, batch_size = 16, epochs = 70, verbose = 1, validation_split = 0.2)\n"
      ],
      "execution_count": null,
      "outputs": [
        {
          "output_type": "stream",
          "text": [
            "Epoch 1/70\n",
            "82/82 [==============================] - 1s 15ms/step - loss: 0.6937 - accuracy: 0.5237 - val_loss: 0.6929 - val_accuracy: 0.5046\n",
            "Epoch 2/70\n",
            "82/82 [==============================] - 1s 13ms/step - loss: 0.6927 - accuracy: 0.5299 - val_loss: 0.6956 - val_accuracy: 0.4771\n",
            "Epoch 3/70\n",
            "82/82 [==============================] - 1s 13ms/step - loss: 0.6898 - accuracy: 0.5459 - val_loss: 0.6943 - val_accuracy: 0.4771\n",
            "Epoch 4/70\n",
            "82/82 [==============================] - 1s 13ms/step - loss: 0.6903 - accuracy: 0.5352 - val_loss: 0.6970 - val_accuracy: 0.4771\n",
            "Epoch 5/70\n",
            "82/82 [==============================] - 1s 13ms/step - loss: 0.6880 - accuracy: 0.5475 - val_loss: 0.6945 - val_accuracy: 0.4862\n",
            "Epoch 6/70\n",
            "82/82 [==============================] - 1s 13ms/step - loss: 0.6888 - accuracy: 0.5467 - val_loss: 0.6953 - val_accuracy: 0.4771\n",
            "Epoch 7/70\n",
            "82/82 [==============================] - 1s 13ms/step - loss: 0.6855 - accuracy: 0.5613 - val_loss: 0.6972 - val_accuracy: 0.4771\n",
            "Epoch 8/70\n",
            "82/82 [==============================] - 1s 13ms/step - loss: 0.6848 - accuracy: 0.5605 - val_loss: 0.6915 - val_accuracy: 0.5138\n",
            "Epoch 9/70\n",
            "82/82 [==============================] - 1s 13ms/step - loss: 0.6794 - accuracy: 0.5842 - val_loss: 0.6849 - val_accuracy: 0.5627\n",
            "Epoch 10/70\n",
            "82/82 [==============================] - 1s 13ms/step - loss: 0.6779 - accuracy: 0.5674 - val_loss: 0.6850 - val_accuracy: 0.5657\n",
            "Epoch 11/70\n",
            "82/82 [==============================] - 1s 13ms/step - loss: 0.6698 - accuracy: 0.5827 - val_loss: 0.6892 - val_accuracy: 0.5076\n",
            "Epoch 12/70\n",
            "82/82 [==============================] - 1s 13ms/step - loss: 0.6658 - accuracy: 0.5873 - val_loss: 0.6804 - val_accuracy: 0.5719\n",
            "Epoch 13/70\n",
            "82/82 [==============================] - 1s 13ms/step - loss: 0.6707 - accuracy: 0.5926 - val_loss: 0.6898 - val_accuracy: 0.5168\n",
            "Epoch 14/70\n",
            "82/82 [==============================] - 1s 13ms/step - loss: 0.6596 - accuracy: 0.6080 - val_loss: 0.6790 - val_accuracy: 0.5688\n",
            "Epoch 15/70\n",
            "82/82 [==============================] - 1s 13ms/step - loss: 0.6590 - accuracy: 0.6095 - val_loss: 0.6749 - val_accuracy: 0.6330\n",
            "Epoch 16/70\n",
            "82/82 [==============================] - 1s 13ms/step - loss: 0.6611 - accuracy: 0.5926 - val_loss: 0.6759 - val_accuracy: 0.6147\n",
            "Epoch 17/70\n",
            "82/82 [==============================] - 1s 13ms/step - loss: 0.6596 - accuracy: 0.6087 - val_loss: 0.6707 - val_accuracy: 0.6330\n",
            "Epoch 18/70\n",
            "82/82 [==============================] - 1s 13ms/step - loss: 0.6579 - accuracy: 0.6003 - val_loss: 0.6821 - val_accuracy: 0.5657\n",
            "Epoch 19/70\n",
            "82/82 [==============================] - 1s 13ms/step - loss: 0.6546 - accuracy: 0.6172 - val_loss: 0.6937 - val_accuracy: 0.5229\n",
            "Epoch 20/70\n",
            "82/82 [==============================] - 1s 13ms/step - loss: 0.6502 - accuracy: 0.6225 - val_loss: 0.6702 - val_accuracy: 0.6330\n",
            "Epoch 21/70\n",
            "82/82 [==============================] - 1s 13ms/step - loss: 0.6444 - accuracy: 0.6210 - val_loss: 0.6754 - val_accuracy: 0.5994\n",
            "Epoch 22/70\n",
            "82/82 [==============================] - 1s 13ms/step - loss: 0.6413 - accuracy: 0.6126 - val_loss: 0.6694 - val_accuracy: 0.6269\n",
            "Epoch 23/70\n",
            "82/82 [==============================] - 1s 13ms/step - loss: 0.6410 - accuracy: 0.6378 - val_loss: 0.6579 - val_accuracy: 0.6453\n",
            "Epoch 24/70\n",
            "82/82 [==============================] - 1s 13ms/step - loss: 0.6352 - accuracy: 0.6440 - val_loss: 0.6667 - val_accuracy: 0.6391\n",
            "Epoch 25/70\n",
            "82/82 [==============================] - 1s 13ms/step - loss: 0.6306 - accuracy: 0.6409 - val_loss: 0.6696 - val_accuracy: 0.6024\n",
            "Epoch 26/70\n",
            "82/82 [==============================] - 1s 13ms/step - loss: 0.6303 - accuracy: 0.6470 - val_loss: 0.6735 - val_accuracy: 0.6086\n",
            "Epoch 27/70\n",
            "82/82 [==============================] - 1s 13ms/step - loss: 0.6265 - accuracy: 0.6524 - val_loss: 0.6910 - val_accuracy: 0.5413\n",
            "Epoch 28/70\n",
            "82/82 [==============================] - 1s 13ms/step - loss: 0.6238 - accuracy: 0.6332 - val_loss: 0.6798 - val_accuracy: 0.5933\n",
            "Epoch 29/70\n",
            "82/82 [==============================] - 1s 13ms/step - loss: 0.6214 - accuracy: 0.6401 - val_loss: 0.6566 - val_accuracy: 0.6208\n",
            "Epoch 30/70\n",
            "82/82 [==============================] - 1s 13ms/step - loss: 0.6207 - accuracy: 0.6539 - val_loss: 0.6766 - val_accuracy: 0.6024\n",
            "Epoch 31/70\n",
            "82/82 [==============================] - 1s 13ms/step - loss: 0.6240 - accuracy: 0.6524 - val_loss: 0.6886 - val_accuracy: 0.5596\n",
            "Epoch 32/70\n",
            "82/82 [==============================] - 1s 13ms/step - loss: 0.6155 - accuracy: 0.6631 - val_loss: 0.6703 - val_accuracy: 0.6147\n",
            "Epoch 33/70\n",
            "82/82 [==============================] - 1s 13ms/step - loss: 0.6173 - accuracy: 0.6577 - val_loss: 0.6762 - val_accuracy: 0.6086\n",
            "Epoch 34/70\n",
            "82/82 [==============================] - 1s 13ms/step - loss: 0.6130 - accuracy: 0.6531 - val_loss: 0.6856 - val_accuracy: 0.5841\n",
            "Epoch 35/70\n",
            "82/82 [==============================] - 1s 13ms/step - loss: 0.6025 - accuracy: 0.6815 - val_loss: 0.6600 - val_accuracy: 0.6024\n",
            "Epoch 36/70\n",
            "82/82 [==============================] - 1s 13ms/step - loss: 0.6042 - accuracy: 0.6830 - val_loss: 0.6699 - val_accuracy: 0.6086\n",
            "Epoch 37/70\n",
            "82/82 [==============================] - 1s 13ms/step - loss: 0.5992 - accuracy: 0.6807 - val_loss: 0.6732 - val_accuracy: 0.6361\n",
            "Epoch 38/70\n",
            "82/82 [==============================] - 1s 13ms/step - loss: 0.6016 - accuracy: 0.6685 - val_loss: 0.6702 - val_accuracy: 0.5719\n",
            "Epoch 39/70\n",
            "82/82 [==============================] - 1s 13ms/step - loss: 0.5942 - accuracy: 0.6899 - val_loss: 0.6775 - val_accuracy: 0.6147\n",
            "Epoch 40/70\n",
            "82/82 [==============================] - 1s 13ms/step - loss: 0.6057 - accuracy: 0.6776 - val_loss: 0.6647 - val_accuracy: 0.6055\n",
            "Epoch 41/70\n",
            "82/82 [==============================] - 1s 13ms/step - loss: 0.6036 - accuracy: 0.6700 - val_loss: 0.6713 - val_accuracy: 0.6086\n",
            "Epoch 42/70\n",
            "82/82 [==============================] - 1s 13ms/step - loss: 0.5889 - accuracy: 0.6937 - val_loss: 0.6713 - val_accuracy: 0.5994\n",
            "Epoch 43/70\n",
            "82/82 [==============================] - 1s 13ms/step - loss: 0.5886 - accuracy: 0.6914 - val_loss: 0.6778 - val_accuracy: 0.6208\n",
            "Epoch 44/70\n",
            "82/82 [==============================] - 1s 13ms/step - loss: 0.5749 - accuracy: 0.6891 - val_loss: 0.6882 - val_accuracy: 0.6177\n",
            "Epoch 45/70\n",
            "82/82 [==============================] - 1s 13ms/step - loss: 0.5773 - accuracy: 0.6991 - val_loss: 0.6835 - val_accuracy: 0.5994\n",
            "Epoch 46/70\n",
            "82/82 [==============================] - 1s 13ms/step - loss: 0.5800 - accuracy: 0.6998 - val_loss: 0.6930 - val_accuracy: 0.5872\n",
            "Epoch 47/70\n",
            "82/82 [==============================] - 1s 13ms/step - loss: 0.5687 - accuracy: 0.6968 - val_loss: 0.7051 - val_accuracy: 0.5443\n",
            "Epoch 48/70\n",
            "82/82 [==============================] - 1s 13ms/step - loss: 0.5857 - accuracy: 0.6884 - val_loss: 0.6787 - val_accuracy: 0.5963\n",
            "Epoch 49/70\n",
            "82/82 [==============================] - 1s 13ms/step - loss: 0.5592 - accuracy: 0.7106 - val_loss: 0.6727 - val_accuracy: 0.5872\n",
            "Epoch 50/70\n",
            "82/82 [==============================] - 1s 13ms/step - loss: 0.5502 - accuracy: 0.7182 - val_loss: 0.7173 - val_accuracy: 0.5657\n",
            "Epoch 51/70\n",
            "82/82 [==============================] - 1s 13ms/step - loss: 0.5585 - accuracy: 0.7175 - val_loss: 0.7057 - val_accuracy: 0.5780\n",
            "Epoch 52/70\n",
            "82/82 [==============================] - 1s 13ms/step - loss: 0.5569 - accuracy: 0.7159 - val_loss: 0.6750 - val_accuracy: 0.5719\n",
            "Epoch 53/70\n",
            "82/82 [==============================] - 1s 13ms/step - loss: 0.5477 - accuracy: 0.7067 - val_loss: 0.7197 - val_accuracy: 0.5535\n",
            "Epoch 54/70\n",
            "82/82 [==============================] - 1s 13ms/step - loss: 0.5482 - accuracy: 0.7205 - val_loss: 0.7112 - val_accuracy: 0.5810\n",
            "Epoch 55/70\n",
            "82/82 [==============================] - 1s 13ms/step - loss: 0.5454 - accuracy: 0.7190 - val_loss: 0.6927 - val_accuracy: 0.5872\n",
            "Epoch 56/70\n",
            "82/82 [==============================] - 1s 13ms/step - loss: 0.5290 - accuracy: 0.7343 - val_loss: 0.7098 - val_accuracy: 0.5841\n",
            "Epoch 57/70\n",
            "82/82 [==============================] - 1s 13ms/step - loss: 0.5401 - accuracy: 0.7213 - val_loss: 0.7020 - val_accuracy: 0.5688\n",
            "Epoch 58/70\n",
            "82/82 [==============================] - 1s 13ms/step - loss: 0.5414 - accuracy: 0.7182 - val_loss: 0.6942 - val_accuracy: 0.5780\n",
            "Epoch 59/70\n",
            "82/82 [==============================] - 1s 13ms/step - loss: 0.5564 - accuracy: 0.7052 - val_loss: 0.7064 - val_accuracy: 0.5841\n",
            "Epoch 60/70\n",
            "82/82 [==============================] - 1s 13ms/step - loss: 0.5324 - accuracy: 0.7213 - val_loss: 0.7160 - val_accuracy: 0.5902\n",
            "Epoch 61/70\n",
            "82/82 [==============================] - 1s 13ms/step - loss: 0.5282 - accuracy: 0.7289 - val_loss: 0.7022 - val_accuracy: 0.5933\n",
            "Epoch 62/70\n",
            "82/82 [==============================] - 1s 13ms/step - loss: 0.5194 - accuracy: 0.7351 - val_loss: 0.7123 - val_accuracy: 0.5810\n",
            "Epoch 63/70\n",
            "82/82 [==============================] - 1s 13ms/step - loss: 0.5208 - accuracy: 0.7297 - val_loss: 0.7330 - val_accuracy: 0.5627\n",
            "Epoch 64/70\n",
            "82/82 [==============================] - 1s 13ms/step - loss: 0.5198 - accuracy: 0.7366 - val_loss: 0.6931 - val_accuracy: 0.5872\n",
            "Epoch 65/70\n",
            "82/82 [==============================] - 1s 13ms/step - loss: 0.5108 - accuracy: 0.7381 - val_loss: 0.7258 - val_accuracy: 0.5933\n",
            "Epoch 66/70\n",
            "82/82 [==============================] - 1s 13ms/step - loss: 0.5080 - accuracy: 0.7427 - val_loss: 0.7463 - val_accuracy: 0.5657\n",
            "Epoch 67/70\n",
            "82/82 [==============================] - 1s 13ms/step - loss: 0.4935 - accuracy: 0.7596 - val_loss: 0.7718 - val_accuracy: 0.5749\n",
            "Epoch 68/70\n",
            "82/82 [==============================] - 1s 13ms/step - loss: 0.4937 - accuracy: 0.7473 - val_loss: 0.7566 - val_accuracy: 0.5810\n",
            "Epoch 69/70\n",
            "82/82 [==============================] - 1s 13ms/step - loss: 0.4984 - accuracy: 0.7565 - val_loss: 0.7353 - val_accuracy: 0.5749\n",
            "Epoch 70/70\n",
            "82/82 [==============================] - 1s 13ms/step - loss: 0.4770 - accuracy: 0.7642 - val_loss: 0.7435 - val_accuracy: 0.5872\n"
          ],
          "name": "stdout"
        }
      ]
    },
    {
      "cell_type": "code",
      "metadata": {
        "colab": {
          "base_uri": "https://localhost:8080/"
        },
        "id": "mONbLW89aFaV",
        "outputId": "9839ed54-b12b-49bf-ac41-81f7169c8415"
      },
      "source": [
        "model.save('my_cnn', save_format='tf')\n",
        "\n",
        "model2 = keras.models.load_model('my_cnn') \n",
        "print(model2.summary())"
      ],
      "execution_count": null,
      "outputs": [
        {
          "output_type": "stream",
          "text": [
            "INFO:tensorflow:Assets written to: my_cnn/assets\n",
            "Model: \"sequential_7\"\n",
            "_________________________________________________________________\n",
            "Layer (type)                 Output Shape              Param #   \n",
            "=================================================================\n",
            "conv2d_28 (Conv2D)           (None, 126, 126, 128)     1280      \n",
            "_________________________________________________________________\n",
            "max_pooling2d_28 (MaxPooling (None, 63, 63, 128)       0         \n",
            "_________________________________________________________________\n",
            "conv2d_29 (Conv2D)           (None, 61, 61, 64)        73792     \n",
            "_________________________________________________________________\n",
            "max_pooling2d_29 (MaxPooling (None, 30, 30, 64)        0         \n",
            "_________________________________________________________________\n",
            "dropout_14 (Dropout)         (None, 30, 30, 64)        0         \n",
            "_________________________________________________________________\n",
            "conv2d_30 (Conv2D)           (None, 28, 28, 64)        36928     \n",
            "_________________________________________________________________\n",
            "max_pooling2d_30 (MaxPooling (None, 14, 14, 64)        0         \n",
            "_________________________________________________________________\n",
            "conv2d_31 (Conv2D)           (None, 12, 12, 64)        36928     \n",
            "_________________________________________________________________\n",
            "max_pooling2d_31 (MaxPooling (None, 6, 6, 64)          0         \n",
            "_________________________________________________________________\n",
            "dropout_15 (Dropout)         (None, 6, 6, 64)          0         \n",
            "_________________________________________________________________\n",
            "flatten_7 (Flatten)          (None, 2304)              0         \n",
            "_________________________________________________________________\n",
            "dense_14 (Dense)             (None, 128)               295040    \n",
            "_________________________________________________________________\n",
            "dense_15 (Dense)             (None, 1)                 129       \n",
            "=================================================================\n",
            "Total params: 444,097\n",
            "Trainable params: 444,097\n",
            "Non-trainable params: 0\n",
            "_________________________________________________________________\n",
            "None\n"
          ],
          "name": "stdout"
        }
      ]
    },
    {
      "cell_type": "code",
      "metadata": {
        "colab": {
          "base_uri": "https://localhost:8080/",
          "height": 573
        },
        "id": "STd3CfW9DGkF",
        "outputId": "6e95ac42-56ff-47a8-b72b-55259ea7c2e7"
      },
      "source": [
        "# creating visual representation of training accuracy and loss\n",
        "# summarize history for accuracy\n",
        "plt.plot(history.history['accuracy'], color = '#a3281f')\n",
        "plt.plot(history.history['val_accuracy'], color = '#1613a1')\n",
        "plt.title('model accuracy')\n",
        "plt.ylabel('accuracy')\n",
        "plt.xlabel('epoch')\n",
        "plt.legend(['train', 'validation'], loc='upper left')\n",
        "plt.show()\n",
        "# summarize history for loss\n",
        "plt.plot(history.history['loss'], color = '#a3281f')\n",
        "plt.plot(history.history['val_loss'], color = '#1613a1')\n",
        "plt.title('model loss')\n",
        "plt.ylabel('loss')\n",
        "plt.xlabel('epoch')\n",
        "plt.legend(['train', 'validation'], loc='upper left')\n",
        "plt.show()"
      ],
      "execution_count": null,
      "outputs": [
        {
          "output_type": "display_data",
          "data": {
            "image/png": "[encoded data removed]",
            "text/plain": [
              "<Figure size 432x288 with 1 Axes>"
            ]
          },
          "metadata": {
            "tags": [],
            "needs_background": "light"
          }
        },
        {
          "output_type": "display_data",
          "data": {
            "image/png": "[encoded data removed]",
            "text/plain": [
              "<Figure size 432x288 with 1 Axes>"
            ]
          },
          "metadata": {
            "tags": [],
            "needs_background": "light"
          }
        }
      ]
    },
    {
      "cell_type": "code",
      "metadata": {
        "colab": {
          "base_uri": "https://localhost:8080/"
        },
        "id": "CZZBc2r_DEfs",
        "outputId": "3baa957a-1135-4e0b-973a-30320384c21a"
      },
      "source": [
        "#Predictions\n",
        "yhat_probs = model2.predict(test_img, verbose=0)\n",
        "# predict crisp classes for test set\n",
        "yhat_classes = model2.predict_classes(test_img, verbose=0)\n",
        "# reduce to 1d array\n",
        "yhat_probs = yhat_probs[:, 0]\n",
        "yhat_classes = yhat_classes[:, 0]\n",
        "\n",
        "#Printing metrices\n",
        "# accuracy: (tp + tn) / (p + n)\n",
        "accuracy = accuracy_score(test_lab, yhat_classes)\n",
        "print('Accuracy: %f' % accuracy)\n",
        "# precision tp / (tp + fp)\n",
        "precision = precision_score(test_lab, yhat_classes)\n",
        "print('Precision: %f' % precision)\n",
        "# recall: tp / (tp + fn)\n",
        "recall = recall_score(test_lab, yhat_classes)\n",
        "print('Recall: %f' % recall)\n",
        "# f1: 2 tp / (2 tp + fp + fn)\n",
        "f1 = f1_score(test_lab, yhat_classes)\n",
        "print('F1 score: %f' % f1)\n",
        "average_precision = average_precision_score(test_lab, yhat_classes)\n",
        "print('Average presicion/recall: %f' % average_precision)\n",
        " \n",
        "# confusion matrix\n",
        "matrix = confusion_matrix(test_lab, yhat_classes)\n",
        "print(matrix)\n",
        "\n",
        "\n"
      ],
      "execution_count": null,
      "outputs": [
        {
          "output_type": "stream",
          "text": [
            "Accuracy: 0.647059\n",
            "Precision: 0.679104\n",
            "Recall: 0.473958\n",
            "F1 score: 0.558282\n",
            "Average presicion/recall: 0.569416\n",
            "[[173  43]\n",
            " [101  91]]\n"
          ],
          "name": "stdout"
        }
      ]
    }
  ]
}
